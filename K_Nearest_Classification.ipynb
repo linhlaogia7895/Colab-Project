{
  "cells": [
    {
      "cell_type": "markdown",
      "metadata": {
        "id": "view-in-github",
        "colab_type": "text"
      },
      "source": [
        "<a href=\"https://colab.research.google.com/github/linhlaogia7895/Colab-Project/blob/linh/K_Nearest_Classification.ipynb\" target=\"_parent\"><img src=\"https://colab.research.google.com/assets/colab-badge.svg\" alt=\"Open In Colab\"/></a>"
      ]
    },
    {
      "cell_type": "markdown",
      "metadata": {
        "id": "MZhNkN8-BSm1"
      },
      "source": [
        "# Example 1: Very simple example to explain the intuition"
      ]
    },
    {
      "cell_type": "code",
      "source": [
        "from google.colab import drive\n",
        "drive.mount('/content/drive')"
      ],
      "metadata": {
        "id": "G_O_VI70BV41"
      },
      "execution_count": null,
      "outputs": []
    },
    {
      "cell_type": "code",
      "source": [
        "cd 'drive/MyDrive/Colab Notebooks'"
      ],
      "metadata": {
        "id": "VIoubHsDBea-"
      },
      "execution_count": null,
      "outputs": []
    },
    {
      "cell_type": "markdown",
      "metadata": {
        "id": "VSeKJqYnBSm_"
      },
      "source": [
        "## Create a \"dataset\" (four points in two-dimensional space):"
      ]
    },
    {
      "cell_type": "code",
      "execution_count": null,
      "metadata": {
        "id": "zKGKJs_8BSnB"
      },
      "outputs": [],
      "source": [
        "import numpy as np\n",
        "import operator\n",
        "\n",
        "def createDataSet():\n",
        "    #feature vector x = [x_1, x_2]\n",
        "\n",
        "    group = np.array([[1.0,1.1],\n",
        "                      [1.0,1.0],\n",
        "                      [0,0],\n",
        "                      [0,0.1]])\n",
        "    #labels y\n",
        "    labels = ['A','A','B','B']\n",
        "    return group, labels"
      ]
    },
    {
      "cell_type": "code",
      "execution_count": null,
      "metadata": {
        "id": "ZHXG37LNBSnE"
      },
      "outputs": [],
      "source": [
        "group, labels = createDataSet()"
      ]
    },
    {
      "cell_type": "code",
      "execution_count": null,
      "metadata": {
        "id": "DLG_vOKSBSnG"
      },
      "outputs": [],
      "source": [
        "group"
      ]
    },
    {
      "cell_type": "code",
      "execution_count": null,
      "metadata": {
        "id": "OHutQmO5BSnI"
      },
      "outputs": [],
      "source": [
        "labels"
      ]
    },
    {
      "cell_type": "code",
      "execution_count": null,
      "metadata": {
        "id": "9tv2vitEBSnK"
      },
      "outputs": [],
      "source": [
        "#printing the x_1 axis\n",
        "\n",
        "x_1 = [group[i][0]\n",
        "       for i in range(len(group))]\n",
        "print(x_1)"
      ]
    },
    {
      "cell_type": "code",
      "execution_count": null,
      "metadata": {
        "id": "2Oefx1g9BSnN"
      },
      "outputs": [],
      "source": [
        "#printing the x_2 axis\n",
        "\n",
        "x_2 = [group[i][1] for i in range(len(group))]\n",
        "print(x_2)"
      ]
    },
    {
      "cell_type": "code",
      "execution_count": null,
      "metadata": {
        "id": "0Eec5IyEBSnQ"
      },
      "outputs": [],
      "source": [
        "import matplotlib.pyplot as plt\n",
        "\n",
        "fig = plt.figure()\n",
        "ax = fig.add_subplot(1, 1, 1, facecolor='#E6E6E6')\n",
        "\n",
        "ax.scatter(x_1, x_2, alpha=0.8, edgecolors='none', s=30)\n",
        "\n",
        "plt.title('Matplot scatter plot')\n",
        "#plt.legend(loc=1)\n",
        "plt.show()"
      ]
    },
    {
      "cell_type": "code",
      "execution_count": null,
      "metadata": {
        "id": "z2P4iritBSnR"
      },
      "outputs": [],
      "source": [
        "N=len(group)\n",
        "data = group\n",
        "#labels = ['point{0}'.format(i) for i in range(N)]\n",
        "\n",
        "#plt.subplots_adjust(bottom = 0.1)\n",
        "plt.scatter(data[:, 0], data[:, 1], marker='o')\n",
        "\n",
        "for label, x_1, x_2 in zip(labels, data[:, 0], data[:, 1]):\n",
        "    plt.annotate(\n",
        "        label,\n",
        "        xy=(x_1, x_2), xytext=(30, 30),\n",
        "        textcoords='offset points', ha='right', va='bottom',\n",
        "        bbox=dict(boxstyle='round,pad=0.5', fc='yellow', alpha=0.5),\n",
        "        arrowprops=dict(arrowstyle = '->', connectionstyle='arc3,rad=0'))\n",
        "\n",
        "plt.show()"
      ]
    },
    {
      "cell_type": "markdown",
      "metadata": {
        "id": "2LJak-7DBSnS"
      },
      "source": [
        "* We wish to classify a new point inX with a given k.\n",
        "\n",
        "* For every point in our dataset:\n",
        "    1. calculate the distance between inX and each of the current points\n",
        "    2. sort the distances in increasing order\n",
        "    3. take k items with lowest distances to inX\n",
        "    4. find the majority class among these items\n",
        "    5. return the majority class as our prediction for the class of inX"
      ]
    },
    {
      "cell_type": "markdown",
      "metadata": {
        "id": "3Cq82yNsBSnU"
      },
      "source": [
        "How do we calculate Euclidean distance between two points?\n",
        "\n",
        "We have $x_1 = (x_{1,1}, x_{1,2}), x_2 = (x_{2,1}, x_{2,2})$.\n",
        "\n",
        "The Euclidean distnce is defined as:\n",
        "$d(x_1, x_2) = \\sqrt{(x_{1,1}-x_{2,1})^2 + (x_{1,2}-x_{2,2})^2}$.\n",
        "\n",
        "For example, the distance between (0,1) and (2,1) is:\n",
        "$d((0,1), (2,1)) = \\sqrt{(0-2)^2 + (1-1)^2} = 2$\n"
      ]
    },
    {
      "cell_type": "markdown",
      "metadata": {
        "id": "snlyVnv0BSnW"
      },
      "source": [
        "Suppose we wish to classify (0,0)."
      ]
    },
    {
      "cell_type": "code",
      "execution_count": null,
      "metadata": {
        "id": "O_8jvdlbBSnW"
      },
      "outputs": [],
      "source": [
        "inX = [0,0]\n",
        "#1. calculate distance between inX and each of the current points\n",
        "dataSetSize = group.shape[0]\n",
        "print(dataSetSize)\n",
        "#we have 4 points"
      ]
    },
    {
      "cell_type": "code",
      "execution_count": null,
      "metadata": {
        "id": "dkWdCDKJBSnX"
      },
      "outputs": [],
      "source": [
        "#we replicate the value times the size of our group\n",
        "np.tile(inX, (dataSetSize,1))"
      ]
    },
    {
      "cell_type": "code",
      "execution_count": null,
      "metadata": {
        "id": "9JgKC2i2BSnZ"
      },
      "outputs": [],
      "source": [
        "group"
      ]
    },
    {
      "cell_type": "markdown",
      "metadata": {
        "id": "owElq73zBSna"
      },
      "source": [
        "From numpy doc:\n",
        "\n",
        "numpy.tile(A, reps)\n",
        "\n",
        "Construct an array by repeating A the number of times given by reps."
      ]
    },
    {
      "cell_type": "code",
      "execution_count": null,
      "metadata": {
        "id": "NOcEqJr0BSna"
      },
      "outputs": [],
      "source": [
        "#1. compute the difference between inX and each of the points\n",
        "diffMat = np.tile(inX, (dataSetSize,1)) - group\n",
        "print(diffMat)\n",
        "#interpretation: first point difference to inX is (-1,-1.1)"
      ]
    },
    {
      "cell_type": "code",
      "execution_count": null,
      "metadata": {
        "id": "kCRXFcppBSnb"
      },
      "outputs": [],
      "source": [
        "#Now, we raise to the power of 2 per component (only positive values):\n",
        "sqDiffMat = (diffMat**2) #or pow(diffMat,2)\n",
        "print(sqDiffMat)"
      ]
    },
    {
      "cell_type": "markdown",
      "metadata": {
        "id": "cCaFriV7BSnc"
      },
      "source": [
        "Now, we summarize the two components per observation and get the Euclidean distance between (0,0) and each of the 4 observations:"
      ]
    },
    {
      "cell_type": "code",
      "execution_count": null,
      "metadata": {
        "id": "l_fAiEwfBSnc"
      },
      "outputs": [],
      "source": [
        "sqDistances = sqDiffMat.sum(axis=1) # sum of rows! (axis = 1)\n",
        "print(sqDistances)"
      ]
    },
    {
      "cell_type": "code",
      "execution_count": null,
      "metadata": {
        "id": "j4Xp5pkrBSnf"
      },
      "outputs": [],
      "source": [
        "#Take square root:\n",
        "distances = sqDistances**0.5 #or pow(sqDistances,0.5)\n",
        "print(distances)"
      ]
    },
    {
      "cell_type": "code",
      "execution_count": null,
      "metadata": {
        "id": "kSBbjFzSBSnf"
      },
      "outputs": [],
      "source": [
        "# 2. sort the distances in increasing order (the higher the farther):\n",
        "sortedDistIndicies = distances.argsort()\n",
        "print(sortedDistIndicies)\n",
        "#index 2 smallest, index 3, index 1, index 0"
      ]
    },
    {
      "cell_type": "markdown",
      "metadata": {
        "id": "tk-_a54nBSng"
      },
      "source": [
        "From numpy doc:\n",
        "\n",
        "numpy.argsort()\n",
        "\n",
        "Returns the indices that would sort an array.\n",
        "\n",
        "### You are ALWAYS encouraged to read (by Googling) the methods and functions."
      ]
    },
    {
      "cell_type": "code",
      "execution_count": null,
      "metadata": {
        "id": "ngvG_8Y5BSng"
      },
      "outputs": [],
      "source": [
        "#3. take k items with lowest distances to inX\n",
        "#4. find the majority class among these items\n",
        "k = 3\n",
        "classCount={}   #dictionary that will contain the vote\n",
        "for i in range(k):\n",
        "    #go over the first k neighbors and get label of the current neighbor\n",
        "    voteIlabel = labels[sortedDistIndicies[i]]\n",
        "    print(voteIlabel)\n",
        "    #give +1 vote to the class of the neighbor. If voteIlabel does not exist, set it to 0\n",
        "    classCount[voteIlabel] = classCount.get(voteIlabel,0) + 1\n",
        "    print(classCount)"
      ]
    },
    {
      "cell_type": "code",
      "execution_count": null,
      "metadata": {
        "id": "AH_DxP3-BSnh"
      },
      "outputs": [],
      "source": [
        "labels"
      ]
    },
    {
      "cell_type": "code",
      "execution_count": null,
      "metadata": {
        "id": "Mfm4eAlmBSni"
      },
      "outputs": [],
      "source": [
        "classCount.items()"
      ]
    },
    {
      "cell_type": "code",
      "execution_count": null,
      "metadata": {
        "id": "UoJ8JqAcBSni"
      },
      "outputs": [],
      "source": [
        "#5. return the majority class as our prediction for the class of inX\n",
        "#itemgetter refers to the index by which we sort classCount. We sort by value (not key) and hence 1 and not 0\n",
        "sortedClassCount = sorted(classCount.items(), key=operator.itemgetter(1), reverse=True)\n",
        "print(sortedClassCount[0][0])"
      ]
    },
    {
      "cell_type": "code",
      "execution_count": null,
      "metadata": {
        "id": "Pyg_1BgdBSnj"
      },
      "outputs": [],
      "source": [
        "def classify0(inX, dataSet, labels, k):\n",
        "\n",
        "    #1. calculate distance between inX and the current points\n",
        "    dataSetSize = dataSet.shape[0]\n",
        "    diffMat = np.tile(inX, (dataSetSize,1)) - dataSet\n",
        "    sqDiffMat = diffMat**2\n",
        "    sqDistances = sqDiffMat.sum(axis=1)\n",
        "    distances = sqDistances**0.5\n",
        "\n",
        "    # 2. sort the distances in increasing order (the higher the farther):\n",
        "    sortedDistIndicies = distances.argsort()\n",
        "    #3. take k items with lowest distances to inX\n",
        "    #4. find the majority class among these items\n",
        "    classCount={}\n",
        "    for i in range(k):\n",
        "        voteIlabel = labels[sortedDistIndicies[i]]\n",
        "        classCount[voteIlabel] = classCount.get(voteIlabel,0) + 1\n",
        "    #5. return the majority class as our prediction for the class of inX\n",
        "    sortedClassCount = sorted(classCount.items(), key=operator.itemgetter(1), reverse=True)\n",
        "    return sortedClassCount[0][0]"
      ]
    },
    {
      "cell_type": "code",
      "execution_count": null,
      "metadata": {
        "id": "VCkg56f1BSnj"
      },
      "outputs": [],
      "source": [
        "classify0([0.5,0.5],group,labels,4)"
      ]
    },
    {
      "cell_type": "markdown",
      "metadata": {
        "id": "KXBXaP0UBSnk"
      },
      "source": [
        "# Let us go back to the slides for now..."
      ]
    },
    {
      "cell_type": "markdown",
      "metadata": {
        "id": "1Bl5EXZ-BSnk"
      },
      "source": [
        "# Example 2: Dating website\n"
      ]
    },
    {
      "cell_type": "markdown",
      "metadata": {
        "id": "Xo4Hv-iiBSnl"
      },
      "source": [
        "## Reading and parsing the input file:"
      ]
    },
    {
      "cell_type": "code",
      "execution_count": null,
      "metadata": {
        "id": "AbUulsT0BSnl"
      },
      "outputs": [],
      "source": [
        "def file2matrix(filename, print_flag):\n",
        "    #the three types of categories.\n",
        "    #two files: one has labels and one has numbers - this parses both types\n",
        "\n",
        "    love_dictionary={'largeDoses':3, 'smallDoses':2, 'didntLike':1}\n",
        "\n",
        "    #opening the file for reading rows:\n",
        "\n",
        "    fr = open(filename)\n",
        "    arrayOLines = fr.readlines()\n",
        "    if print_flag:\n",
        "        print(arrayOLines[0:3])\n",
        "    numberOfLines = len(arrayOLines)               #get the number of lines in the file\n",
        "\n",
        "    #we will have a num_lines x 3 matrix\n",
        "    returnMat = np.zeros((numberOfLines,3))        #prepare matrix to return\n",
        "    classLabelVector = []                          #prepare labels return\n",
        "    index = 0\n",
        "\n",
        "    #reading line-by-line:\n",
        "    for j,line in enumerate(arrayOLines):\n",
        "\n",
        "        line = line.strip() #take copy of the string\n",
        "\n",
        "        if j<=1 and print_flag:\n",
        "            print(line)\n",
        "\n",
        "        listFromLine = line.split('\\t') #tab sep\n",
        "\n",
        "        if j<=1 and print_flag:\n",
        "            print(listFromLine)\n",
        "\n",
        "        returnMat[index,:] = listFromLine[0:3] #take only features, without label\n",
        "\n",
        "        #for k in range(len(listFromLine)):\n",
        "        #    if k<3:\n",
        "        #        returnMat[index,k] = float(listFromLine[k])\n",
        "\n",
        "        if j<=1 and print_flag:\n",
        "            print(returnMat)\n",
        "\n",
        "        #taking the label (works for both strings and digits):\n",
        "\n",
        "        if(listFromLine[-1].isdigit()):\n",
        "            classLabelVector.append(int(listFromLine[-1]))\n",
        "        else:\n",
        "            classLabelVector.append(love_dictionary.get(listFromLine[-1]))\n",
        "\n",
        "        if j<=1 and print_flag:\n",
        "            print(classLabelVector)\n",
        "\n",
        "        index += 1\n",
        "\n",
        "    return returnMat,classLabelVector"
      ]
    },
    {
      "cell_type": "code",
      "execution_count": null,
      "metadata": {
        "id": "6A9EuwFpBSnn"
      },
      "outputs": [],
      "source": [
        "retMat, classLab = file2matrix('datingTestSet.txt', True)"
      ]
    },
    {
      "cell_type": "code",
      "execution_count": null,
      "metadata": {
        "id": "zZbG5o7MBSnn"
      },
      "outputs": [],
      "source": [
        "retMat[0:5]"
      ]
    },
    {
      "cell_type": "code",
      "execution_count": null,
      "metadata": {
        "id": "Gyo3Qk9mBSno"
      },
      "outputs": [],
      "source": [
        "classLab[0:5]"
      ]
    },
    {
      "cell_type": "markdown",
      "metadata": {
        "id": "JW4oR5VEBSnp"
      },
      "source": [
        "## Normalizing the data:"
      ]
    },
    {
      "cell_type": "markdown",
      "metadata": {
        "id": "R7MMMrMTBSnp"
      },
      "source": [
        "The formula:\n",
        "\n",
        "$\\frac{oldValue-minValue}{range}$,\n",
        "\n",
        "$range=maxValue-minValue$"
      ]
    },
    {
      "cell_type": "code",
      "execution_count": null,
      "metadata": {
        "id": "LKyvC6HbBSnq"
      },
      "outputs": [],
      "source": [
        "def autoNorm(dataSet, print_flag):\n",
        "    #min and max:\n",
        "    minVals = dataSet.min(0)\n",
        "    maxVals = dataSet.max(0)\n",
        "    if print_flag:\n",
        "        print(\"minVals:\",minVals)\n",
        "        print(\"maxVals:\",maxVals)\n",
        "    #range:\n",
        "\n",
        "    ranges = maxVals - minVals\n",
        "    if print_flag:\n",
        "        print(\"Ranges:\", ranges)\n",
        "\n",
        "    #New matrix of zeroes\n",
        "    normDataSet = np.zeros(np.shape(dataSet))\n",
        "    m = dataSet.shape[0]\n",
        "\n",
        "    #applying the formula:\n",
        "    normDataSet = dataSet - np.tile(minVals, (m,1))\n",
        "    normDataSet = normDataSet/np.tile(ranges, (m,1))   #element wise divide\n",
        "\n",
        "\n",
        "    if print_flag:\n",
        "        print(normDataSet)\n",
        "\n",
        "\n",
        "    return normDataSet, ranges, minVals"
      ]
    },
    {
      "cell_type": "code",
      "execution_count": null,
      "metadata": {
        "id": "zgeyTn5kBSnr"
      },
      "outputs": [],
      "source": [
        "normMat, ranges, minVals = autoNorm(retMat, True)"
      ]
    },
    {
      "cell_type": "markdown",
      "metadata": {
        "id": "jwmdd648BSnr"
      },
      "source": [
        "## Testing the classifier:"
      ]
    },
    {
      "cell_type": "code",
      "execution_count": null,
      "metadata": {
        "id": "zZg5WcelBSns"
      },
      "outputs": [],
      "source": [
        "def datingClassTest(K_user):\n",
        "    hoRatio = 0.95      #hold out 10% - test set, the rest will be used for distances\n",
        "\n",
        "    #load data setfrom file:\n",
        "    datingDataMat, datingLabels = file2matrix('datingTestSet.txt', False)\n",
        "    normMat, ranges, minVals = autoNorm(datingDataMat, False) #normalize the data\n",
        "    #select only test set for classification: (no training)\n",
        "    m = normMat.shape[0]\n",
        "    numTestVecs = int(m*hoRatio) # = 100 for hoRation = 0.1\n",
        "\n",
        "    errorCount = 0.0\n",
        "    #iterate over held out data and predict label. +1 if error in classification.\n",
        "    for i in range(numTestVecs):\n",
        "        classifierResult = classify0(normMat[i,:],\n",
        "                                     normMat[numTestVecs:m,:], #all features for test instances\n",
        "                                     datingLabels[numTestVecs:m], #labels of test instances\n",
        "                                     k=K_user)\n",
        "        #print(\"the classifier came back with: %d, the real answer is: %d\" %\n",
        "        #      (classifierResult, datingLabels[i]))\n",
        "\n",
        "        if (classifierResult != datingLabels[i]):\n",
        "            errorCount += 1.0 #same as errorCount = errorCount+1\n",
        "    errorRate = (errorCount/float(numTestVecs))\n",
        "    #print(\"the total error rate is: %f\" % (errorCount/float(numTestVecs)))\n",
        "    #print(errorCount)\n",
        "    return errorRate"
      ]
    },
    {
      "cell_type": "code",
      "execution_count": null,
      "metadata": {
        "id": "Kigw8vVoBSnt"
      },
      "outputs": [],
      "source": [
        "best_K = 1\n",
        "err_max =1\n",
        "for K in range(1,30):\n",
        "\n",
        "    err_Count = datingClassTest(K_user = K)\n",
        "    #print(err_Count)\n",
        "    if err_Count<err_max:\n",
        "        best_K = K\n",
        "        err_max = err_Count\n",
        "print(err_max)"
      ]
    },
    {
      "cell_type": "code",
      "execution_count": null,
      "metadata": {
        "id": "lWaN4-RTBSnu"
      },
      "outputs": [],
      "source": [
        "print(best_K)"
      ]
    },
    {
      "cell_type": "markdown",
      "metadata": {
        "id": "uPnpo4HKBSnu"
      },
      "source": [
        "## Closing the loop with an `expert system':"
      ]
    },
    {
      "cell_type": "code",
      "execution_count": null,
      "metadata": {
        "id": "tDgCKOLJBSnv"
      },
      "outputs": [],
      "source": [
        "def classifyPerson():\n",
        "    #possible results:\n",
        "    resultList = ['not at all', 'in small doses', 'in large doses']\n",
        "    #reading input from user:\n",
        "\n",
        "    percentTats = float(input(\\\n",
        "                                  \"percentage of time spent playing video games?\"))\n",
        "    ffMiles = float(input(\"frequent flier miles earned per year?\"))\n",
        "    iceCream = float(input(\"liters of ice cream consumed per year?\"))\n",
        "\n",
        "    #reading the data and normalizing:\n",
        "\n",
        "    datingDataMat, datingLabels = file2matrix('datingTestSet.txt', False)\n",
        "    normMat, ranges, minVals = autoNorm(datingDataMat, False)\n",
        "\n",
        "    #input values:\n",
        "    inArr = np.array([ffMiles, percentTats, iceCream, ])\n",
        "    #classifying the input:\n",
        "    classifierResult = classify0((inArr - \\\n",
        "                                  minVals)/ranges, normMat, datingLabels, 3)\n",
        "\n",
        "    print(\"You will probably like this person: %s\" % resultList[classifierResult - 1])\n",
        ""
      ]
    },
    {
      "cell_type": "code",
      "execution_count": null,
      "metadata": {
        "id": "GC2CuvuYBSnw"
      },
      "outputs": [],
      "source": [
        "classifyPerson()"
      ]
    },
    {
      "cell_type": "code",
      "execution_count": null,
      "metadata": {
        "id": "hyy4-UK3BSnw"
      },
      "outputs": [],
      "source": []
    }
  ],
  "metadata": {
    "kernelspec": {
      "display_name": "Python 3",
      "language": "python",
      "name": "python3"
    },
    "language_info": {
      "codemirror_mode": {
        "name": "ipython",
        "version": 3
      },
      "file_extension": ".py",
      "mimetype": "text/x-python",
      "name": "python",
      "nbconvert_exporter": "python",
      "pygments_lexer": "ipython3",
      "version": "3.8.3"
    },
    "colab": {
      "provenance": [],
      "include_colab_link": true
    }
  },
  "nbformat": 4,
  "nbformat_minor": 0
}