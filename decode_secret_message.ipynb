{
  "nbformat": 4,
  "nbformat_minor": 0,
  "metadata": {
    "colab": {
      "provenance": [],
      "toc_visible": true,
      "authorship_tag": "ABX9TyM1/v+Dqlju0mCEiIJ3DwQo",
      "include_colab_link": true
    },
    "kernelspec": {
      "name": "python3",
      "display_name": "Python 3"
    },
    "language_info": {
      "name": "python"
    }
  },
  "cells": [
    {
      "cell_type": "markdown",
      "metadata": {
        "id": "view-in-github",
        "colab_type": "text"
      },
      "source": [
        "<a href=\"https://colab.research.google.com/github/linhlaogia7895/DecodingTheMessage/blob/linh/decode_secret_message.ipynb\" target=\"_parent\"><img src=\"https://colab.research.google.com/assets/colab-badge.svg\" alt=\"Open In Colab\"/></a>"
      ]
    },
    {
      "cell_type": "code",
      "source": [
        "from bs4 import BeautifulSoup as bs\n",
        "import requests as r\n",
        "\n",
        "def decode(url):\n",
        "    # Send a GET request\n",
        "    request=r.get(url)\n",
        "    if request.status_code==200:\n",
        "\n",
        "      # Parse the HTML content using BSoup\n",
        "      soup = bs(request.text,'html.parser')\n",
        "      text=soup.get_text(separator='\\n').strip()\n",
        "    lines = text.splitlines()\n",
        "\n",
        "    # Find the index of the line containing \"y-coordinate\"\n",
        "    start_index = next((i for i, line in enumerate(lines) if line.strip() == \"y-coordinate\"), None)\n",
        "\n",
        "    # Extract lines starting from the line after \"y-coordinate\"\n",
        "    extract_text = \"\\n\".join(lines[start_index + 1:])\n",
        "    ts=extract_text.split(\"\\n\")\n",
        "\n",
        "    # Append the x,y coordinate and the character into each result array (3 interval for each coordinate)\n",
        "    result=[]\n",
        "    for i in range(0,len(ts),3):\n",
        "      result.append(ts[i:i+3])\n",
        "\n",
        "    # Find maximum x-coordinate, y-coordinate\n",
        "    x,y=0,0\n",
        "    for a in result:\n",
        "        if len(a)!=3:continue\n",
        "        x = max(x, int(a[0]))\n",
        "        y = max(y, int(a[2]))\n",
        "    x,y=x+1,y+1\n",
        "\n",
        "    #Innitiate 2D array\n",
        "    array=[[\" \"for _ in range(x)]for _ in range(y)]\n",
        "\n",
        "    # Assign character into (x,y) coordinate in the array\n",
        "    for b in result:\n",
        "        if len(b)!=3:continue\n",
        "        array[int(b[2])][int(b[0])]=b[1]\n",
        "\n",
        "    # Print the array\n",
        "    for row in array:\n",
        "        print(\"\".join(row))\n",
        "url = 'https://docs.google.com/document/d/e/2PACX-1vSHesOf9hv2sPOntssYrEdubmMQm8lwjfwv6NPjjmIRYs_FOYXtqrYgjh85jBUebK9swPXh_a5TJ5Kl/pub'\n",
        "decode(url)"
      ],
      "metadata": {
        "colab": {
          "base_uri": "https://localhost:8080/"
        },
        "id": "Ky6mqmhhlhsl",
        "outputId": "d75524fc-5814-4f02-cd5e-2a0f11397446"
      },
      "execution_count": null,
      "outputs": [
        {
          "output_type": "stream",
          "name": "stdout",
          "text": [
            "██████████░ ██████░    ███████░     ██░     ██░     ████████░    ██░    ███░   ████████░  \n",
            "██░           ██░    ███░    ██░   ████░   ████░    ██░     ██░  ██░  ███░   ███░     ███░\n",
            "██░           ██░   ███░           ██░██░ ██░██░    ██░      ██░ ██░███░     ██░       ██░\n",
            "████████░     ██░   ██░           ███░ ██░██░ ██░   ██░      ██░ ████░       ██░       ██░\n",
            "██░           ██░   ███░          ██░  █████░ ███░  ██░      ██░ ██░███░     ██░       ██░\n",
            "██░           ██░    ███░    ██░ ███░   ███░   ██░  ██░     ██░  ██░  ███░   ███░     ███░\n",
            "██████████░ ██████░    ███████░  ██░           ███░ ████████░    ██░    ███░   ████████░  \n"
          ]
        }
      ]
    }
  ]
}