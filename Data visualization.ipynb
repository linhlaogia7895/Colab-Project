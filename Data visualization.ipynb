{
  "cells": [
    {
      "cell_type": "markdown",
      "metadata": {
        "id": "view-in-github",
        "colab_type": "text"
      },
      "source": [
        "<a href=\"https://colab.research.google.com/github/linhlaogia7895/Colab-Project/blob/linh/Data%20visualization.ipynb\" target=\"_parent\"><img src=\"https://colab.research.google.com/assets/colab-badge.svg\" alt=\"Open In Colab\"/></a>"
      ]
    },
    {
      "cell_type": "code",
      "execution_count": null,
      "id": "f1fdcfb7-3f46-416f-af37-394d29eb6a75",
      "metadata": {
        "id": "f1fdcfb7-3f46-416f-af37-394d29eb6a75",
        "outputId": "51e712d0-8d8a-4013-9490-682db0f24ebf"
      },
      "outputs": [
        {
          "name": "stdout",
          "output_type": "stream",
          "text": [
            "Facebook\n",
            "Instagram\n",
            "('Facebook', 'Amazon', 'Netflix')\n"
          ]
        },
        {
          "ename": "AttributeError",
          "evalue": "'tuple' object has no attribute 'append'",
          "output_type": "error",
          "traceback": [
            "\u001b[1;31m---------------------------------------------------------------------------\u001b[0m",
            "\u001b[1;31mAttributeError\u001b[0m                            Traceback (most recent call last)",
            "Cell \u001b[1;32mIn[6], line 6\u001b[0m\n\u001b[0;32m      4\u001b[0m \u001b[38;5;28mprint\u001b[39m(apps_tuple[\u001b[38;5;241m-\u001b[39m\u001b[38;5;241m1\u001b[39m])\n\u001b[0;32m      5\u001b[0m \u001b[38;5;28mprint\u001b[39m(apps_tuple[\u001b[38;5;241m1\u001b[39m:\u001b[38;5;241m4\u001b[39m])\n\u001b[1;32m----> 6\u001b[0m \u001b[43mapps_tuple\u001b[49m\u001b[38;5;241;43m.\u001b[39;49m\u001b[43mappend\u001b[49m(\u001b[38;5;124m\"\u001b[39m\u001b[38;5;124mMessenger\u001b[39m\u001b[38;5;124m\"\u001b[39m)\n",
            "\u001b[1;31mAttributeError\u001b[0m: 'tuple' object has no attribute 'append'"
          ]
        }
      ],
      "source": [
        "apps_tuple=(\"Google\",\"Facebook\",\"Amazon\",\"Netflix\",\"AirBnB\",\"Instagram\")\n",
        "secondelement=apps_tuple[1]\n",
        "print(secondelement)\n",
        "print(apps_tuple[-1])\n",
        "print(apps_tuple[1:4])\n",
        "apps_tuple.append(\"Messenger\")"
      ]
    },
    {
      "cell_type": "code",
      "execution_count": null,
      "id": "43bb1247-bee9-41a3-951b-435476aa0b30",
      "metadata": {
        "id": "43bb1247-bee9-41a3-951b-435476aa0b30",
        "outputId": "901b13c1-1d2b-4179-e166-15ca9525dce9"
      },
      "outputs": [
        {
          "name": "stdout",
          "output_type": "stream",
          "text": [
            "['Google', 'Facebook', 'Amazon']\n",
            "['Netflix', 'AirBnB', 'Instagram']\n",
            "['Google', 'Youtube', 'Facebook', 'Amazon', 'Netflix', 'AirBnB', 'Instagram', 'Messenger']\n",
            "['Google', 'Youtube', 'Amazon', 'Netflix', 'AirBnB', 'Instagram', 'Messenger', 'Linkedin', 'Twitter']\n"
          ]
        }
      ],
      "source": [
        "apps_list=[\"Google\",\"Facebook\",\"Amazon\",\"Netflix\",\"AirBnB\",\"Instagram\"]\n",
        "print(apps_list[0:3])\n",
        "print(apps_list[3:])\n",
        "apps_list.append(\"Messenger\")\n",
        "apps_list.insert(1,\"Youtube\")\n",
        "print(apps_list)\n",
        "apps_list.remove(\"Facebook\")\n",
        "\"Facebook\" in apps_list\n",
        "apps_list1=[\"Linkedin\",\"Twitter\"]\n",
        "apps_list=apps_list+apps_list1\n",
        "print(apps_list)"
      ]
    },
    {
      "cell_type": "code",
      "execution_count": null,
      "id": "9c4321ac-d110-4ec5-a17d-af34ffcb5032",
      "metadata": {
        "id": "9c4321ac-d110-4ec5-a17d-af34ffcb5032"
      },
      "outputs": [],
      "source": [
        "apps_dict={\"app0\":\"Google\",\"app1\":\"Facebook\",\"app2\":\"Amazon\",\"app3\":\"Netflix\",\"app4\":\"AirBnB\",\"app5\":\"Instagram\"}\n",
        "apps_dict[\"app1\"]\n",
        "apps_dict[\"app1\"]=\"Youtube\"\n",
        "apps_dict[\"app6\"]=\"Messenger\"\n",
        "apps_dict[\"app1\"]=\"Messenger\"\n",
        "apps_dict[\"App1\"]=\"Facebook\"\n",
        "del apps_dict[\"App1\"]"
      ]
    },
    {
      "cell_type": "code",
      "execution_count": null,
      "id": "5b61996e-e18e-4ed4-b972-6f1ce97ccdb8",
      "metadata": {
        "id": "5b61996e-e18e-4ed4-b972-6f1ce97ccdb8",
        "outputId": "c4140eec-8711-453f-b38e-bde267917977"
      },
      "outputs": [
        {
          "data": {
            "text/plain": [
              "[49, 144, 81, 324, 225]"
            ]
          },
          "execution_count": 2,
          "metadata": {},
          "output_type": "execute_result"
        }
      ],
      "source": [
        "values=[7,12,9,18,15]\n",
        "[x**2 for x in values]"
      ]
    },
    {
      "cell_type": "code",
      "execution_count": null,
      "id": "49e679a3-5477-4442-80e6-8ae9dd7a701c",
      "metadata": {
        "id": "49e679a3-5477-4442-80e6-8ae9dd7a701c",
        "outputId": "21e9daec-27d8-4969-a5c4-028223d9e03e"
      },
      "outputs": [
        {
          "name": "stderr",
          "output_type": "stream",
          "text": [
            "C:\\Users\\Admin\\AppData\\Local\\Temp\\ipykernel_19720\\1798440085.py:2: DeprecationWarning: This function is deprecated. Please call randint(600, 900 + 1) instead\n",
            "  array=np.random.random_integers(600,900,10)\n"
          ]
        },
        {
          "data": {
            "text/plain": [
              "['Low',\n",
              " 'Low',\n",
              " 'Medium',\n",
              " 'Low',\n",
              " 'Medium',\n",
              " 'Medium',\n",
              " 'Medium',\n",
              " 'Medium',\n",
              " 'Low',\n",
              " 'High']"
            ]
          },
          "execution_count": 2,
          "metadata": {},
          "output_type": "execute_result"
        }
      ],
      "source": [
        "import numpy as np\n",
        "array=np.random.random_integers(600,900,10)\n",
        "def credit_scorehelper(sample):\n",
        "    if sample<=699 and sample>=600:\n",
        "        return \"Low\"\n",
        "    if sample<=799 and sample>=700:\n",
        "        return \"Medium\"\n",
        "    if sample<=900 and sample>=800:\n",
        "        return \"High\"\n",
        "def credit_score(array):\n",
        "    return [credit_scorehelper(x) for x in array]\n",
        "credit_score(array)"
      ]
    },
    {
      "cell_type": "code",
      "execution_count": null,
      "id": "8740d1ce-b1f5-43f9-9abc-03dd214704e9",
      "metadata": {
        "id": "8740d1ce-b1f5-43f9-9abc-03dd214704e9",
        "outputId": "2278a64a-7264-44df-b39b-33165320eca4"
      },
      "outputs": [
        {
          "data": {
            "text/plain": [
              "array([[-2,  2],\n",
              "       [ 4,  0],\n",
              "       [ 0,  4]])"
            ]
          },
          "execution_count": 11,
          "metadata": {},
          "output_type": "execute_result"
        }
      ],
      "source": [
        "import numpy as np\n",
        "A = np.array([[2, 1],\n",
        "               [1, 1],\n",
        "               [2, 3]])\n",
        "B = np.array([[-4, 1],\n",
        "               [3, -1],\n",
        "               [-2, 1]])\n",
        "result1 = 2*A\n",
        "result1\n",
        "\n",
        "result2 = -3*B\n",
        "result2\n",
        "\n",
        "result3 = A+B\n",
        "result3"
      ]
    },
    {
      "cell_type": "code",
      "execution_count": null,
      "id": "0ac10d43-6921-46b1-92d4-971e40c03fff",
      "metadata": {
        "id": "0ac10d43-6921-46b1-92d4-971e40c03fff",
        "outputId": "cece8b3d-32c7-4b97-dc7d-92fe9da9df38"
      },
      "outputs": [
        {
          "name": "stdout",
          "output_type": "stream",
          "text": [
            "[[-10 -16]\n",
            " [ -4  -4]\n",
            " [ 11  16]]\n"
          ]
        },
        {
          "data": {
            "text/plain": [
              "array([[ 3., -1.],\n",
              "       [-2.,  1.]])"
            ]
          },
          "execution_count": 14,
          "metadata": {},
          "output_type": "execute_result"
        }
      ],
      "source": [
        "import numpy as np\n",
        "A = np.array([[2, -6],\n",
        "               [-4, 0],\n",
        "               [1, 5]])\n",
        "B = np.array([[1, 1],\n",
        "               [2, 3]])\n",
        "\n",
        "print(np.matmul(A,B))\n",
        "\n",
        "result = np.linalg.inv(B)\n",
        "result"
      ]
    },
    {
      "cell_type": "code",
      "execution_count": null,
      "id": "4a41b8e8-1751-4e83-bb3f-16821131a843",
      "metadata": {
        "id": "4a41b8e8-1751-4e83-bb3f-16821131a843",
        "outputId": "63689f73-5051-4ceb-f364-e6e2aced3c1b"
      },
      "outputs": [
        {
          "name": "stdout",
          "output_type": "stream",
          "text": [
            "[[ 1  0  3  1]\n",
            " [-2  1  3  2]\n",
            " [ 0  0  0  2]\n",
            " [ 3  2  1 -1]]\n",
            "42.00000000000001\n"
          ]
        }
      ],
      "source": [
        "import numpy as np\n",
        "A = np.array([[1, 0, 4, 1],\n",
        "               [-2, 1, -3, 2],\n",
        "               [0, 0, 0 , 2],\n",
        "              [3, 2, 1, -1]])\n",
        "\n",
        "absA = A.copy()\n",
        "absA[np.abs(absA) >= 3] = 3\n",
        "print(absA)\n",
        "\n",
        "result = np.linalg.det(A)\n",
        "print(result)\n"
      ]
    },
    {
      "cell_type": "code",
      "execution_count": null,
      "id": "d7e852cf-80c6-4384-a9e1-f18416fed833",
      "metadata": {
        "id": "d7e852cf-80c6-4384-a9e1-f18416fed833",
        "outputId": "da75578e-4787-429e-8206-cc29add581e4"
      },
      "outputs": [
        {
          "name": "stdout",
          "output_type": "stream",
          "text": [
            "3.0\n",
            "3.7416573867739413\n",
            "2.0\n",
            "3.0\n",
            "4.0\n",
            "4.69041575982343\n"
          ]
        }
      ],
      "source": [
        "import numpy as np\n",
        "x1 = np.array([1, -2, 3])\n",
        "\n",
        "maximum_norm1 = np.linalg.norm(x1, ord=np.inf)\n",
        "print(maximum_norm1)\n",
        "\n",
        "x1_Euclideannorm = np.linalg.norm(x1, ord=2)\n",
        "print(x1_Euclideannorm)\n",
        "\n",
        "x2 = np.array([2, 0, -1, 2])\n",
        "\n",
        "maximum_norm2 = np.linalg.norm(x2, ord=np.inf)\n",
        "print(maximum_norm2)\n",
        "\n",
        "x2_Euclideannorm = np.linalg.norm(x2, ord=2)\n",
        "print(x2_Euclideannorm)\n",
        "\n",
        "x3 = np.array([0, 1, -4, 2, -1])\n",
        "\n",
        "maximum_norm3 = np.linalg.norm(x3, ord=np.inf)\n",
        "print(maximum_norm3)\n",
        "\n",
        "x3_Euclideannorm = np.linalg.norm(x3, ord=2)\n",
        "print(x3_Euclideannorm)"
      ]
    },
    {
      "cell_type": "code",
      "execution_count": null,
      "id": "1d9759de-69ab-412c-b628-01d1c7ca662c",
      "metadata": {
        "id": "1d9759de-69ab-412c-b628-01d1c7ca662c",
        "outputId": "030fbd9b-4481-4df8-bf36-123fc2327c45"
      },
      "outputs": [
        {
          "name": "stdout",
          "output_type": "stream",
          "text": [
            "5.0197648378370845\n",
            "7.0\n",
            "2.4998281017161057\n",
            "3.0\n"
          ]
        }
      ],
      "source": [
        "import numpy as np\n",
        "\n",
        "A1 = np.array([[1, -2],\n",
        "               [4, 3]])\n",
        "\n",
        "l2_norm1 = np.linalg.norm(A1, ord=2)\n",
        "print(l2_norm1)\n",
        "\n",
        "linf_norm1 = np.linalg.norm(A1, ord=np.inf)\n",
        "print(linf_norm1)\n",
        "\n",
        "A2 = np.array([[1, 0, 2],\n",
        "               [0, 1, -1],\n",
        "               [-1, 1, 1]])\n",
        "\n",
        "l2_norm2 = np.linalg.norm(A2, ord=2)\n",
        "print(l2_norm2)\n",
        "\n",
        "linf_norm2 = np.linalg.norm(A2, ord=np.inf)\n",
        "print(linf_norm2)"
      ]
    },
    {
      "cell_type": "code",
      "execution_count": null,
      "id": "9e73661f-a48a-40ad-bde5-ec0955479e32",
      "metadata": {
        "id": "9e73661f-a48a-40ad-bde5-ec0955479e32",
        "outputId": "2f866358-9cc2-407a-ea0d-ea1e1342339d"
      },
      "outputs": [
        {
          "name": "stdout",
          "output_type": "stream",
          "text": [
            "[  3. -12.  -3.]\n"
          ]
        }
      ],
      "source": [
        "import numpy as np\n",
        "\n",
        "A = np.array([[-2, -2, 3],\n",
        "              [-10, -1, 6],\n",
        "              [10, -2, -9]])\n",
        "\n",
        "values, vectors = np.linalg.eig(A)\n",
        "\n",
        "print(values)"
      ]
    },
    {
      "cell_type": "code",
      "execution_count": null,
      "id": "c2c0f979-32ed-41be-bd68-f3e0a004bbf4",
      "metadata": {
        "colab": {
          "base_uri": "https://localhost:8080/"
        },
        "id": "c2c0f979-32ed-41be-bd68-f3e0a004bbf4",
        "outputId": "36528e1b-2a45-4785-e449-5a472c6f5ef3"
      },
      "outputs": [
        {
          "output_type": "stream",
          "name": "stderr",
          "text": [
            "/usr/local/lib/python3.10/dist-packages/openpyxl/worksheet/_reader.py:329: UserWarning: Unknown extension is not supported and will be removed\n",
            "  warn(msg)\n"
          ]
        }
      ],
      "source": [
        "import pandas as pd\n",
        "import numpy as np\n",
        "import matplotlib.pyplot as plt\n",
        "import statistics as st\n",
        "from scipy import stats\n",
        "\n",
        "df = pd.read_excel('Gas_prices.xlsx')\n",
        "\n"
      ]
    },
    {
      "cell_type": "code",
      "source": [
        "def fill_nan(column):\n",
        "    data_column = column.copy()\n",
        "    for i in range(len(column)):\n",
        "        if pd.isna(column.iloc[i]):\n",
        "            j = i - 1\n",
        "            while pd.isna(column.iloc[j]):\n",
        "                j -= 1\n",
        "            k = i + 1\n",
        "            while pd.isna(column.iloc[k]):\n",
        "                k += 1\n",
        "            data_column.iloc[i] = (column.iloc[j] + column.iloc[k]) / 2\n",
        "    return data_column\n",
        "\n",
        "df['Price_pl'] = fill_nan(df['Price_pl'])"
      ],
      "metadata": {
        "id": "FXpCojY7l8-Q"
      },
      "id": "FXpCojY7l8-Q",
      "execution_count": null,
      "outputs": []
    },
    {
      "cell_type": "code",
      "source": [
        "min_index = df['Price_pl'].idxmin()\n",
        "min_date = df.loc[min_index, 'Date']\n",
        "min_value = df.loc[min_index, 'Price_pl']\n",
        "\n",
        "max_index = df['Price_pl'].idxmax()\n",
        "max_date = df.loc[max_index, 'Date']\n",
        "max_value = df.loc[max_index, 'Price_pl']\n",
        "\n",
        "print(f\"Minimum Price: Index = {min_index}, Date = {min_date}, Value = {min_value}\")\n",
        "print(f\"Maximum Price: Index = {max_index}, Date = {max_date}, Value = {max_value}\")"
      ],
      "metadata": {
        "colab": {
          "base_uri": "https://localhost:8080/"
        },
        "id": "mCdh3bzvnRZ8",
        "outputId": "f0058087-0b44-47fb-8b9e-cf31fcd30dee"
      },
      "id": "mCdh3bzvnRZ8",
      "execution_count": null,
      "outputs": [
        {
          "output_type": "stream",
          "name": "stdout",
          "text": [
            "Minimum Price: Index = 9, Date = 20/2/2016, Value = 0.889\n",
            "Maximum Price: Index = 73, Date = 23/05/2018, Value = 1.336\n"
          ]
        }
      ]
    },
    {
      "cell_type": "code",
      "source": [
        "\n",
        "skewness = stats.skew(df['Price_pl'])\n",
        "kurtosis = stats.kurtosis(df['Price_pl'])\n",
        "\n",
        "print(\"Descriptive Statistics for Gas Price:\")\n",
        "print(df['Price_pl'].describe())\n",
        "print(f\"Skewness: {skewness}\")\n",
        "print(f\"Kurtosis: {kurtosis}\")"
      ],
      "metadata": {
        "colab": {
          "base_uri": "https://localhost:8080/"
        },
        "id": "OsJ6BebQq6le",
        "outputId": "faf8c07a-ffa5-4845-cada-ec6fd67425bc"
      },
      "id": "OsJ6BebQq6le",
      "execution_count": null,
      "outputs": [
        {
          "output_type": "stream",
          "name": "stdout",
          "text": [
            "Descriptive Statistics for Gas Price:\n",
            "count    82.000000\n",
            "mean      1.095390\n",
            "std       0.107164\n",
            "min       0.889000\n",
            "25%       1.019750\n",
            "50%       1.079000\n",
            "75%       1.171750\n",
            "max       1.336000\n",
            "Name: Price_pl, dtype: float64\n",
            "Skewness: 0.4589297802017028\n",
            "Kurtosis: -0.314789133226101\n"
          ]
        }
      ]
    },
    {
      "cell_type": "code",
      "source": [
        "df['Date'] = pd.to_datetime(df['Date'], format='%d/%m/%Y')\n",
        "df['Month'] = df['Date'].dt.month\n",
        "df['Year'] = df['Date'].dt.year\n",
        "pivot_table = df.pivot_table(index='Month', columns='Year', values='Price_pl', aggfunc='mean')\n",
        "print(pivot_table)"
      ],
      "metadata": {
        "colab": {
          "base_uri": "https://localhost:8080/"
        },
        "id": "4D7RUXw-ogYu",
        "outputId": "e0af9630-9688-41f7-873e-3954e533146d"
      },
      "id": "4D7RUXw-ogYu",
      "execution_count": null,
      "outputs": [
        {
          "output_type": "stream",
          "name": "stdout",
          "text": [
            "Year    2015      2016      2017      2018\n",
            "Month                                     \n",
            "1        NaN  0.964000  1.119000  1.197500\n",
            "2        NaN  0.899000  1.079000  1.186000\n",
            "3        NaN  0.929000  1.075000  1.215000\n",
            "4        NaN  1.031500  1.175667  1.287750\n",
            "5        NaN  1.075667  1.109000  1.328333\n",
            "6        NaN  1.048000  1.022000  1.289000\n",
            "7        NaN  1.024000  1.059000  1.312500\n",
            "8        NaN  0.993875  1.100667       NaN\n",
            "9        NaN  0.999000  1.086000       NaN\n",
            "10       NaN  1.049000  1.126000  1.209000\n",
            "11     1.024  0.949000  1.183000  1.127000\n",
            "12     1.009  1.074000  1.211000  1.016000\n"
          ]
        }
      ]
    },
    {
      "cell_type": "code",
      "source": [
        "pivot_table.plot(kind='line', title='Monthly Average Gas Price')\n",
        "plt.xlabel('Month')\n",
        "plt.ylabel('Average Gas Price')\n",
        "legend = plt.legend(title='Year', loc='upper right')\n",
        "legend.get_frame().set_alpha(0.3)\n",
        "plt.show()"
      ],
      "metadata": {
        "colab": {
          "base_uri": "https://localhost:8080/",
          "height": 472
        },
        "id": "QucbBiHvphig",
        "outputId": "712b8aac-95b6-4ecf-c338-0fdbfab555b4"
      },
      "id": "QucbBiHvphig",
      "execution_count": null,
      "outputs": [
        {
          "output_type": "display_data",
          "data": {
            "text/plain": [
              "<Figure size 640x480 with 1 Axes>"
            ],
            "image/png": "[encoded data removed]"
          },
          "metadata": {}
        }
      ]
    },
    {
      "cell_type": "code",
      "source": [],
      "metadata": {
        "id": "rQUdM8Pn1P4j"
      },
      "id": "rQUdM8Pn1P4j",
      "execution_count": null,
      "outputs": []
    },
    {
      "cell_type": "code",
      "source": [
        "\n",
        "\n",
        "def get_season(month):\n",
        "    if 3 <= month <= 5:\n",
        "        return 'Spring'\n",
        "    elif 6 <= month <= 8:\n",
        "        return 'Summer'\n",
        "    elif 9 <= month <= 11:\n",
        "        return 'Fall'\n",
        "    else:\n",
        "        return 'Winter'\n",
        "\n",
        "df['Season'] = df['Date'].dt.month.apply(get_season)\n",
        "df.set_index(['Season', 'Date'], inplace=True)\n",
        "seasonal_average = df.groupby('Season')['Price_pl'].mean()\n",
        "seasonal_average.rename(\"Average price ($)\", inplace=True)\n",
        "print(seasonal_average)"
      ],
      "metadata": {
        "colab": {
          "base_uri": "https://localhost:8080/"
        },
        "id": "BkeKo8HVr2Cv",
        "outputId": "2e84d7aa-ef18-4861-bdef-83dfe4ca0789"
      },
      "id": "BkeKo8HVr2Cv",
      "execution_count": null,
      "outputs": [
        {
          "output_type": "stream",
          "name": "stdout",
          "text": [
            "Season\n",
            "Fall      1.073429\n",
            "Spring    1.133019\n",
            "Summer    1.086147\n",
            "Winter    1.072417\n",
            "Name: Average price ($), dtype: float64\n"
          ]
        }
      ]
    },
    {
      "cell_type": "markdown",
      "source": [
        "#4"
      ],
      "metadata": {
        "id": "12j3xzb8xopQ"
      },
      "id": "12j3xzb8xopQ"
    },
    {
      "cell_type": "code",
      "source": [
        "import pandas as pd\n",
        "import numpy as np\n",
        "import matplotlib.pyplot as plt\n",
        "import statistics as st\n",
        "from scipy import stats\n",
        "\n",
        "df = pd.read_excel('/content/TREB_Data.xlsx')\n",
        "df.head()"
      ],
      "metadata": {
        "colab": {
          "base_uri": "https://localhost:8080/",
          "height": 241
        },
        "id": "kRukOhJbxqoF",
        "outputId": "37370a2e-b966-4500-d2c8-1792333ae588"
      },
      "id": "kRukOhJbxqoF",
      "execution_count": null,
      "outputs": [
        {
          "output_type": "stream",
          "name": "stderr",
          "text": [
            "/usr/local/lib/python3.10/dist-packages/openpyxl/worksheet/_reader.py:329: UserWarning: Unknown extension is not supported and will be removed\n",
            "  warn(msg)\n"
          ]
        },
        {
          "output_type": "execute_result",
          "data": {
            "text/plain": [
              "       MonthYear  Sales  AveragePrice\n",
              "0   January-2017   5155        768351\n",
              "1  February-2017   7955        876363\n",
              "2     March-2017  11959        915353\n",
              "3     April-2017  11470        918138\n",
              "4       May-2017  10068        862109"
            ],
            "text/html": [
              "\n",
              "  <div id=\"df-a20ead4d-6861-4d04-b183-2e856210b0d3\" class=\"colab-df-container\">\n",
              "    <div>\n",
              "<style scoped>\n",
              "    .dataframe tbody tr th:only-of-type {\n",
              "        vertical-align: middle;\n",
              "    }\n",
              "\n",
              "    .dataframe tbody tr th {\n",
              "        vertical-align: top;\n",
              "    }\n",
              "\n",
              "    .dataframe thead th {\n",
              "        text-align: right;\n",
              "    }\n",
              "</style>\n",
              "<table border=\"1\" class=\"dataframe\">\n",
              "  <thead>\n",
              "    <tr style=\"text-align: right;\">\n",
              "      <th></th>\n",
              "      <th>MonthYear</th>\n",
              "      <th>Sales</th>\n",
              "      <th>AveragePrice</th>\n",
              "    </tr>\n",
              "  </thead>\n",
              "  <tbody>\n",
              "    <tr>\n",
              "      <th>0</th>\n",
              "      <td>January-2017</td>\n",
              "      <td>5155</td>\n",
              "      <td>768351</td>\n",
              "    </tr>\n",
              "    <tr>\n",
              "      <th>1</th>\n",
              "      <td>February-2017</td>\n",
              "      <td>7955</td>\n",
              "      <td>876363</td>\n",
              "    </tr>\n",
              "    <tr>\n",
              "      <th>2</th>\n",
              "      <td>March-2017</td>\n",
              "      <td>11959</td>\n",
              "      <td>915353</td>\n",
              "    </tr>\n",
              "    <tr>\n",
              "      <th>3</th>\n",
              "      <td>April-2017</td>\n",
              "      <td>11470</td>\n",
              "      <td>918138</td>\n",
              "    </tr>\n",
              "    <tr>\n",
              "      <th>4</th>\n",
              "      <td>May-2017</td>\n",
              "      <td>10068</td>\n",
              "      <td>862109</td>\n",
              "    </tr>\n",
              "  </tbody>\n",
              "</table>\n",
              "</div>\n",
              "    <div class=\"colab-df-buttons\">\n",
              "\n",
              "  <div class=\"colab-df-container\">\n",
              "    <button class=\"colab-df-convert\" onclick=\"convertToInteractive('df-a20ead4d-6861-4d04-b183-2e856210b0d3')\"\n",
              "            title=\"Convert this dataframe to an interactive table.\"\n",
              "            style=\"display:none;\">\n",
              "\n",
              "  <svg xmlns=\"http://www.w3.org/2000/svg\" height=\"24px\" viewBox=\"0 -960 960 960\">\n",
              "    <path d=\"M120-120v-720h720v720H120Zm60-500h600v-160H180v160Zm220 220h160v-160H400v160Zm0 220h160v-160H400v160ZM180-400h160v-160H180v160Zm440 0h160v-160H620v160ZM180-180h160v-160H180v160Zm440 0h160v-160H620v160Z\"/>\n",
              "  </svg>\n",
              "    </button>\n",
              "\n",
              "  <style>\n",
              "    .colab-df-container {\n",
              "      display:flex;\n",
              "      gap: 12px;\n",
              "    }\n",
              "\n",
              "    .colab-df-convert {\n",
              "      background-color: #E8F0FE;\n",
              "      border: none;\n",
              "      border-radius: 50%;\n",
              "      cursor: pointer;\n",
              "      display: none;\n",
              "      fill: #1967D2;\n",
              "      height: 32px;\n",
              "      padding: 0 0 0 0;\n",
              "      width: 32px;\n",
              "    }\n",
              "\n",
              "    .colab-df-convert:hover {\n",
              "      background-color: #E2EBFA;\n",
              "      box-shadow: 0px 1px 2px rgba(60, 64, 67, 0.3), 0px 1px 3px 1px rgba(60, 64, 67, 0.15);\n",
              "      fill: #174EA6;\n",
              "    }\n",
              "\n",
              "    .colab-df-buttons div {\n",
              "      margin-bottom: 4px;\n",
              "    }\n",
              "\n",
              "    [theme=dark] .colab-df-convert {\n",
              "      background-color: #3B4455;\n",
              "      fill: #D2E3FC;\n",
              "    }\n",
              "\n",
              "    [theme=dark] .colab-df-convert:hover {\n",
              "      background-color: #434B5C;\n",
              "      box-shadow: 0px 1px 3px 1px rgba(0, 0, 0, 0.15);\n",
              "      filter: drop-shadow(0px 1px 2px rgba(0, 0, 0, 0.3));\n",
              "      fill: #FFFFFF;\n",
              "    }\n",
              "  </style>\n",
              "\n",
              "    <script>\n",
              "      const buttonEl =\n",
              "        document.querySelector('#df-a20ead4d-6861-4d04-b183-2e856210b0d3 button.colab-df-convert');\n",
              "      buttonEl.style.display =\n",
              "        google.colab.kernel.accessAllowed ? 'block' : 'none';\n",
              "\n",
              "      async function convertToInteractive(key) {\n",
              "        const element = document.querySelector('#df-a20ead4d-6861-4d04-b183-2e856210b0d3');\n",
              "        const dataTable =\n",
              "          await google.colab.kernel.invokeFunction('convertToInteractive',\n",
              "                                                    [key], {});\n",
              "        if (!dataTable) return;\n",
              "\n",
              "        const docLinkHtml = 'Like what you see? Visit the ' +\n",
              "          '<a target=\"_blank\" href=https://colab.research.google.com/notebooks/data_table.ipynb>data table notebook</a>'\n",
              "          + ' to learn more about interactive tables.';\n",
              "        element.innerHTML = '';\n",
              "        dataTable['output_type'] = 'display_data';\n",
              "        await google.colab.output.renderOutput(dataTable, element);\n",
              "        const docLink = document.createElement('div');\n",
              "        docLink.innerHTML = docLinkHtml;\n",
              "        element.appendChild(docLink);\n",
              "      }\n",
              "    </script>\n",
              "  </div>\n",
              "\n",
              "\n",
              "<div id=\"df-74127fa9-186d-467f-9981-288e23db3890\">\n",
              "  <button class=\"colab-df-quickchart\" onclick=\"quickchart('df-74127fa9-186d-467f-9981-288e23db3890')\"\n",
              "            title=\"Suggest charts.\"\n",
              "            style=\"display:none;\">\n",
              "\n",
              "<svg xmlns=\"http://www.w3.org/2000/svg\" height=\"24px\"viewBox=\"0 0 24 24\"\n",
              "     width=\"24px\">\n",
              "    <g>\n",
              "        <path d=\"M19 3H5c-1.1 0-2 .9-2 2v14c0 1.1.9 2 2 2h14c1.1 0 2-.9 2-2V5c0-1.1-.9-2-2-2zM9 17H7v-7h2v7zm4 0h-2V7h2v10zm4 0h-2v-4h2v4z\"/>\n",
              "    </g>\n",
              "</svg>\n",
              "  </button>\n",
              "\n",
              "<style>\n",
              "  .colab-df-quickchart {\n",
              "      --bg-color: #E8F0FE;\n",
              "      --fill-color: #1967D2;\n",
              "      --hover-bg-color: #E2EBFA;\n",
              "      --hover-fill-color: #174EA6;\n",
              "      --disabled-fill-color: #AAA;\n",
              "      --disabled-bg-color: #DDD;\n",
              "  }\n",
              "\n",
              "  [theme=dark] .colab-df-quickchart {\n",
              "      --bg-color: #3B4455;\n",
              "      --fill-color: #D2E3FC;\n",
              "      --hover-bg-color: #434B5C;\n",
              "      --hover-fill-color: #FFFFFF;\n",
              "      --disabled-bg-color: #3B4455;\n",
              "      --disabled-fill-color: #666;\n",
              "  }\n",
              "\n",
              "  .colab-df-quickchart {\n",
              "    background-color: var(--bg-color);\n",
              "    border: none;\n",
              "    border-radius: 50%;\n",
              "    cursor: pointer;\n",
              "    display: none;\n",
              "    fill: var(--fill-color);\n",
              "    height: 32px;\n",
              "    padding: 0;\n",
              "    width: 32px;\n",
              "  }\n",
              "\n",
              "  .colab-df-quickchart:hover {\n",
              "    background-color: var(--hover-bg-color);\n",
              "    box-shadow: 0 1px 2px rgba(60, 64, 67, 0.3), 0 1px 3px 1px rgba(60, 64, 67, 0.15);\n",
              "    fill: var(--button-hover-fill-color);\n",
              "  }\n",
              "\n",
              "  .colab-df-quickchart-complete:disabled,\n",
              "  .colab-df-quickchart-complete:disabled:hover {\n",
              "    background-color: var(--disabled-bg-color);\n",
              "    fill: var(--disabled-fill-color);\n",
              "    box-shadow: none;\n",
              "  }\n",
              "\n",
              "  .colab-df-spinner {\n",
              "    border: 2px solid var(--fill-color);\n",
              "    border-color: transparent;\n",
              "    border-bottom-color: var(--fill-color);\n",
              "    animation:\n",
              "      spin 1s steps(1) infinite;\n",
              "  }\n",
              "\n",
              "  @keyframes spin {\n",
              "    0% {\n",
              "      border-color: transparent;\n",
              "      border-bottom-color: var(--fill-color);\n",
              "      border-left-color: var(--fill-color);\n",
              "    }\n",
              "    20% {\n",
              "      border-color: transparent;\n",
              "      border-left-color: var(--fill-color);\n",
              "      border-top-color: var(--fill-color);\n",
              "    }\n",
              "    30% {\n",
              "      border-color: transparent;\n",
              "      border-left-color: var(--fill-color);\n",
              "      border-top-color: var(--fill-color);\n",
              "      border-right-color: var(--fill-color);\n",
              "    }\n",
              "    40% {\n",
              "      border-color: transparent;\n",
              "      border-right-color: var(--fill-color);\n",
              "      border-top-color: var(--fill-color);\n",
              "    }\n",
              "    60% {\n",
              "      border-color: transparent;\n",
              "      border-right-color: var(--fill-color);\n",
              "    }\n",
              "    80% {\n",
              "      border-color: transparent;\n",
              "      border-right-color: var(--fill-color);\n",
              "      border-bottom-color: var(--fill-color);\n",
              "    }\n",
              "    90% {\n",
              "      border-color: transparent;\n",
              "      border-bottom-color: var(--fill-color);\n",
              "    }\n",
              "  }\n",
              "</style>\n",
              "\n",
              "  <script>\n",
              "    async function quickchart(key) {\n",
              "      const quickchartButtonEl =\n",
              "        document.querySelector('#' + key + ' button');\n",
              "      quickchartButtonEl.disabled = true;  // To prevent multiple clicks.\n",
              "      quickchartButtonEl.classList.add('colab-df-spinner');\n",
              "      try {\n",
              "        const charts = await google.colab.kernel.invokeFunction(\n",
              "            'suggestCharts', [key], {});\n",
              "      } catch (error) {\n",
              "        console.error('Error during call to suggestCharts:', error);\n",
              "      }\n",
              "      quickchartButtonEl.classList.remove('colab-df-spinner');\n",
              "      quickchartButtonEl.classList.add('colab-df-quickchart-complete');\n",
              "    }\n",
              "    (() => {\n",
              "      let quickchartButtonEl =\n",
              "        document.querySelector('#df-74127fa9-186d-467f-9981-288e23db3890 button');\n",
              "      quickchartButtonEl.style.display =\n",
              "        google.colab.kernel.accessAllowed ? 'block' : 'none';\n",
              "    })();\n",
              "  </script>\n",
              "</div>\n",
              "    </div>\n",
              "  </div>\n"
            ]
          },
          "metadata": {},
          "execution_count": 80
        }
      ]
    },
    {
      "cell_type": "code",
      "source": [
        "df[['Month', 'Year']] = df['MonthYear'].str.split('-', expand=True)\n",
        "df.head()"
      ],
      "metadata": {
        "colab": {
          "base_uri": "https://localhost:8080/",
          "height": 206
        },
        "id": "nsX1hEktzbbT",
        "outputId": "fdcce95c-dc17-445a-b05a-8c8cc0073b8e"
      },
      "id": "nsX1hEktzbbT",
      "execution_count": null,
      "outputs": [
        {
          "output_type": "execute_result",
          "data": {
            "text/plain": [
              "       MonthYear  Sales  AveragePrice     Month  Year\n",
              "0   January-2017   5155        768351   January  2017\n",
              "1  February-2017   7955        876363  February  2017\n",
              "2     March-2017  11959        915353     March  2017\n",
              "3     April-2017  11470        918138     April  2017\n",
              "4       May-2017  10068        862109       May  2017"
            ],
            "text/html": [
              "\n",
              "  <div id=\"df-58c3fcf0-97de-4fe7-a294-1c9567adf446\" class=\"colab-df-container\">\n",
              "    <div>\n",
              "<style scoped>\n",
              "    .dataframe tbody tr th:only-of-type {\n",
              "        vertical-align: middle;\n",
              "    }\n",
              "\n",
              "    .dataframe tbody tr th {\n",
              "        vertical-align: top;\n",
              "    }\n",
              "\n",
              "    .dataframe thead th {\n",
              "        text-align: right;\n",
              "    }\n",
              "</style>\n",
              "<table border=\"1\" class=\"dataframe\">\n",
              "  <thead>\n",
              "    <tr style=\"text-align: right;\">\n",
              "      <th></th>\n",
              "      <th>MonthYear</th>\n",
              "      <th>Sales</th>\n",
              "      <th>AveragePrice</th>\n",
              "      <th>Month</th>\n",
              "      <th>Year</th>\n",
              "    </tr>\n",
              "  </thead>\n",
              "  <tbody>\n",
              "    <tr>\n",
              "      <th>0</th>\n",
              "      <td>January-2017</td>\n",
              "      <td>5155</td>\n",
              "      <td>768351</td>\n",
              "      <td>January</td>\n",
              "      <td>2017</td>\n",
              "    </tr>\n",
              "    <tr>\n",
              "      <th>1</th>\n",
              "      <td>February-2017</td>\n",
              "      <td>7955</td>\n",
              "      <td>876363</td>\n",
              "      <td>February</td>\n",
              "      <td>2017</td>\n",
              "    </tr>\n",
              "    <tr>\n",
              "      <th>2</th>\n",
              "      <td>March-2017</td>\n",
              "      <td>11959</td>\n",
              "      <td>915353</td>\n",
              "      <td>March</td>\n",
              "      <td>2017</td>\n",
              "    </tr>\n",
              "    <tr>\n",
              "      <th>3</th>\n",
              "      <td>April-2017</td>\n",
              "      <td>11470</td>\n",
              "      <td>918138</td>\n",
              "      <td>April</td>\n",
              "      <td>2017</td>\n",
              "    </tr>\n",
              "    <tr>\n",
              "      <th>4</th>\n",
              "      <td>May-2017</td>\n",
              "      <td>10068</td>\n",
              "      <td>862109</td>\n",
              "      <td>May</td>\n",
              "      <td>2017</td>\n",
              "    </tr>\n",
              "  </tbody>\n",
              "</table>\n",
              "</div>\n",
              "    <div class=\"colab-df-buttons\">\n",
              "\n",
              "  <div class=\"colab-df-container\">\n",
              "    <button class=\"colab-df-convert\" onclick=\"convertToInteractive('df-58c3fcf0-97de-4fe7-a294-1c9567adf446')\"\n",
              "            title=\"Convert this dataframe to an interactive table.\"\n",
              "            style=\"display:none;\">\n",
              "\n",
              "  <svg xmlns=\"http://www.w3.org/2000/svg\" height=\"24px\" viewBox=\"0 -960 960 960\">\n",
              "    <path d=\"M120-120v-720h720v720H120Zm60-500h600v-160H180v160Zm220 220h160v-160H400v160Zm0 220h160v-160H400v160ZM180-400h160v-160H180v160Zm440 0h160v-160H620v160ZM180-180h160v-160H180v160Zm440 0h160v-160H620v160Z\"/>\n",
              "  </svg>\n",
              "    </button>\n",
              "\n",
              "  <style>\n",
              "    .colab-df-container {\n",
              "      display:flex;\n",
              "      gap: 12px;\n",
              "    }\n",
              "\n",
              "    .colab-df-convert {\n",
              "      background-color: #E8F0FE;\n",
              "      border: none;\n",
              "      border-radius: 50%;\n",
              "      cursor: pointer;\n",
              "      display: none;\n",
              "      fill: #1967D2;\n",
              "      height: 32px;\n",
              "      padding: 0 0 0 0;\n",
              "      width: 32px;\n",
              "    }\n",
              "\n",
              "    .colab-df-convert:hover {\n",
              "      background-color: #E2EBFA;\n",
              "      box-shadow: 0px 1px 2px rgba(60, 64, 67, 0.3), 0px 1px 3px 1px rgba(60, 64, 67, 0.15);\n",
              "      fill: #174EA6;\n",
              "    }\n",
              "\n",
              "    .colab-df-buttons div {\n",
              "      margin-bottom: 4px;\n",
              "    }\n",
              "\n",
              "    [theme=dark] .colab-df-convert {\n",
              "      background-color: #3B4455;\n",
              "      fill: #D2E3FC;\n",
              "    }\n",
              "\n",
              "    [theme=dark] .colab-df-convert:hover {\n",
              "      background-color: #434B5C;\n",
              "      box-shadow: 0px 1px 3px 1px rgba(0, 0, 0, 0.15);\n",
              "      filter: drop-shadow(0px 1px 2px rgba(0, 0, 0, 0.3));\n",
              "      fill: #FFFFFF;\n",
              "    }\n",
              "  </style>\n",
              "\n",
              "    <script>\n",
              "      const buttonEl =\n",
              "        document.querySelector('#df-58c3fcf0-97de-4fe7-a294-1c9567adf446 button.colab-df-convert');\n",
              "      buttonEl.style.display =\n",
              "        google.colab.kernel.accessAllowed ? 'block' : 'none';\n",
              "\n",
              "      async function convertToInteractive(key) {\n",
              "        const element = document.querySelector('#df-58c3fcf0-97de-4fe7-a294-1c9567adf446');\n",
              "        const dataTable =\n",
              "          await google.colab.kernel.invokeFunction('convertToInteractive',\n",
              "                                                    [key], {});\n",
              "        if (!dataTable) return;\n",
              "\n",
              "        const docLinkHtml = 'Like what you see? Visit the ' +\n",
              "          '<a target=\"_blank\" href=https://colab.research.google.com/notebooks/data_table.ipynb>data table notebook</a>'\n",
              "          + ' to learn more about interactive tables.';\n",
              "        element.innerHTML = '';\n",
              "        dataTable['output_type'] = 'display_data';\n",
              "        await google.colab.output.renderOutput(dataTable, element);\n",
              "        const docLink = document.createElement('div');\n",
              "        docLink.innerHTML = docLinkHtml;\n",
              "        element.appendChild(docLink);\n",
              "      }\n",
              "    </script>\n",
              "  </div>\n",
              "\n",
              "\n",
              "<div id=\"df-7c67c8bb-22b3-4a2a-b03e-cc31b66072eb\">\n",
              "  <button class=\"colab-df-quickchart\" onclick=\"quickchart('df-7c67c8bb-22b3-4a2a-b03e-cc31b66072eb')\"\n",
              "            title=\"Suggest charts.\"\n",
              "            style=\"display:none;\">\n",
              "\n",
              "<svg xmlns=\"http://www.w3.org/2000/svg\" height=\"24px\"viewBox=\"0 0 24 24\"\n",
              "     width=\"24px\">\n",
              "    <g>\n",
              "        <path d=\"M19 3H5c-1.1 0-2 .9-2 2v14c0 1.1.9 2 2 2h14c1.1 0 2-.9 2-2V5c0-1.1-.9-2-2-2zM9 17H7v-7h2v7zm4 0h-2V7h2v10zm4 0h-2v-4h2v4z\"/>\n",
              "    </g>\n",
              "</svg>\n",
              "  </button>\n",
              "\n",
              "<style>\n",
              "  .colab-df-quickchart {\n",
              "      --bg-color: #E8F0FE;\n",
              "      --fill-color: #1967D2;\n",
              "      --hover-bg-color: #E2EBFA;\n",
              "      --hover-fill-color: #174EA6;\n",
              "      --disabled-fill-color: #AAA;\n",
              "      --disabled-bg-color: #DDD;\n",
              "  }\n",
              "\n",
              "  [theme=dark] .colab-df-quickchart {\n",
              "      --bg-color: #3B4455;\n",
              "      --fill-color: #D2E3FC;\n",
              "      --hover-bg-color: #434B5C;\n",
              "      --hover-fill-color: #FFFFFF;\n",
              "      --disabled-bg-color: #3B4455;\n",
              "      --disabled-fill-color: #666;\n",
              "  }\n",
              "\n",
              "  .colab-df-quickchart {\n",
              "    background-color: var(--bg-color);\n",
              "    border: none;\n",
              "    border-radius: 50%;\n",
              "    cursor: pointer;\n",
              "    display: none;\n",
              "    fill: var(--fill-color);\n",
              "    height: 32px;\n",
              "    padding: 0;\n",
              "    width: 32px;\n",
              "  }\n",
              "\n",
              "  .colab-df-quickchart:hover {\n",
              "    background-color: var(--hover-bg-color);\n",
              "    box-shadow: 0 1px 2px rgba(60, 64, 67, 0.3), 0 1px 3px 1px rgba(60, 64, 67, 0.15);\n",
              "    fill: var(--button-hover-fill-color);\n",
              "  }\n",
              "\n",
              "  .colab-df-quickchart-complete:disabled,\n",
              "  .colab-df-quickchart-complete:disabled:hover {\n",
              "    background-color: var(--disabled-bg-color);\n",
              "    fill: var(--disabled-fill-color);\n",
              "    box-shadow: none;\n",
              "  }\n",
              "\n",
              "  .colab-df-spinner {\n",
              "    border: 2px solid var(--fill-color);\n",
              "    border-color: transparent;\n",
              "    border-bottom-color: var(--fill-color);\n",
              "    animation:\n",
              "      spin 1s steps(1) infinite;\n",
              "  }\n",
              "\n",
              "  @keyframes spin {\n",
              "    0% {\n",
              "      border-color: transparent;\n",
              "      border-bottom-color: var(--fill-color);\n",
              "      border-left-color: var(--fill-color);\n",
              "    }\n",
              "    20% {\n",
              "      border-color: transparent;\n",
              "      border-left-color: var(--fill-color);\n",
              "      border-top-color: var(--fill-color);\n",
              "    }\n",
              "    30% {\n",
              "      border-color: transparent;\n",
              "      border-left-color: var(--fill-color);\n",
              "      border-top-color: var(--fill-color);\n",
              "      border-right-color: var(--fill-color);\n",
              "    }\n",
              "    40% {\n",
              "      border-color: transparent;\n",
              "      border-right-color: var(--fill-color);\n",
              "      border-top-color: var(--fill-color);\n",
              "    }\n",
              "    60% {\n",
              "      border-color: transparent;\n",
              "      border-right-color: var(--fill-color);\n",
              "    }\n",
              "    80% {\n",
              "      border-color: transparent;\n",
              "      border-right-color: var(--fill-color);\n",
              "      border-bottom-color: var(--fill-color);\n",
              "    }\n",
              "    90% {\n",
              "      border-color: transparent;\n",
              "      border-bottom-color: var(--fill-color);\n",
              "    }\n",
              "  }\n",
              "</style>\n",
              "\n",
              "  <script>\n",
              "    async function quickchart(key) {\n",
              "      const quickchartButtonEl =\n",
              "        document.querySelector('#' + key + ' button');\n",
              "      quickchartButtonEl.disabled = true;  // To prevent multiple clicks.\n",
              "      quickchartButtonEl.classList.add('colab-df-spinner');\n",
              "      try {\n",
              "        const charts = await google.colab.kernel.invokeFunction(\n",
              "            'suggestCharts', [key], {});\n",
              "      } catch (error) {\n",
              "        console.error('Error during call to suggestCharts:', error);\n",
              "      }\n",
              "      quickchartButtonEl.classList.remove('colab-df-spinner');\n",
              "      quickchartButtonEl.classList.add('colab-df-quickchart-complete');\n",
              "    }\n",
              "    (() => {\n",
              "      let quickchartButtonEl =\n",
              "        document.querySelector('#df-7c67c8bb-22b3-4a2a-b03e-cc31b66072eb button');\n",
              "      quickchartButtonEl.style.display =\n",
              "        google.colab.kernel.accessAllowed ? 'block' : 'none';\n",
              "    })();\n",
              "  </script>\n",
              "</div>\n",
              "    </div>\n",
              "  </div>\n"
            ]
          },
          "metadata": {},
          "execution_count": 85
        }
      ]
    },
    {
      "cell_type": "code",
      "source": [
        "pivot_table = df.pivot_table(index='Month', columns='Year', values='Sales', aggfunc='mean')\n",
        "month_order = ['January', 'February', 'March', 'April', 'May', 'June', 'July', 'August', 'September', 'October', 'November', 'December']\n",
        "pivot_table = pivot_table.reindex(month_order)\n",
        "pivot_table\n"
      ],
      "metadata": {
        "colab": {
          "base_uri": "https://localhost:8080/",
          "height": 457
        },
        "id": "o5xCz0Nj0DR6",
        "outputId": "00da74ce-d284-47a7-c6eb-a175c808faed"
      },
      "id": "o5xCz0Nj0DR6",
      "execution_count": null,
      "outputs": [
        {
          "output_type": "execute_result",
          "data": {
            "text/plain": [
              "Year       2013   2014   2015   2016   2017\n",
              "Month                                      \n",
              "January    4230   4103   4318   4640   5155\n",
              "February   5615   5696   6294   7582   7955\n",
              "March      7536   8052   8886  10260  11959\n",
              "April      9537   9660  11254  12016  11470\n",
              "May        9945  11013  11640  12789  10068\n",
              "June       8821  10132  11905  12725   7896\n",
              "July       8367   9152   9813   9929   5871\n",
              "August     7390   7568   7943   9748   6310\n",
              "September  7256   8001   8147   9828   6340\n",
              "October    7940   8512   8759   9715   7087\n",
              "November   6354   6475   7337   8503   7353\n",
              "December   4058   4418   4917   5305   4930"
            ],
            "text/html": [
              "\n",
              "  <div id=\"df-8e8732aa-0900-4056-8aaf-88534de59621\" class=\"colab-df-container\">\n",
              "    <div>\n",
              "<style scoped>\n",
              "    .dataframe tbody tr th:only-of-type {\n",
              "        vertical-align: middle;\n",
              "    }\n",
              "\n",
              "    .dataframe tbody tr th {\n",
              "        vertical-align: top;\n",
              "    }\n",
              "\n",
              "    .dataframe thead th {\n",
              "        text-align: right;\n",
              "    }\n",
              "</style>\n",
              "<table border=\"1\" class=\"dataframe\">\n",
              "  <thead>\n",
              "    <tr style=\"text-align: right;\">\n",
              "      <th>Year</th>\n",
              "      <th>2013</th>\n",
              "      <th>2014</th>\n",
              "      <th>2015</th>\n",
              "      <th>2016</th>\n",
              "      <th>2017</th>\n",
              "    </tr>\n",
              "    <tr>\n",
              "      <th>Month</th>\n",
              "      <th></th>\n",
              "      <th></th>\n",
              "      <th></th>\n",
              "      <th></th>\n",
              "      <th></th>\n",
              "    </tr>\n",
              "  </thead>\n",
              "  <tbody>\n",
              "    <tr>\n",
              "      <th>January</th>\n",
              "      <td>4230</td>\n",
              "      <td>4103</td>\n",
              "      <td>4318</td>\n",
              "      <td>4640</td>\n",
              "      <td>5155</td>\n",
              "    </tr>\n",
              "    <tr>\n",
              "      <th>February</th>\n",
              "      <td>5615</td>\n",
              "      <td>5696</td>\n",
              "      <td>6294</td>\n",
              "      <td>7582</td>\n",
              "      <td>7955</td>\n",
              "    </tr>\n",
              "    <tr>\n",
              "      <th>March</th>\n",
              "      <td>7536</td>\n",
              "      <td>8052</td>\n",
              "      <td>8886</td>\n",
              "      <td>10260</td>\n",
              "      <td>11959</td>\n",
              "    </tr>\n",
              "    <tr>\n",
              "      <th>April</th>\n",
              "      <td>9537</td>\n",
              "      <td>9660</td>\n",
              "      <td>11254</td>\n",
              "      <td>12016</td>\n",
              "      <td>11470</td>\n",
              "    </tr>\n",
              "    <tr>\n",
              "      <th>May</th>\n",
              "      <td>9945</td>\n",
              "      <td>11013</td>\n",
              "      <td>11640</td>\n",
              "      <td>12789</td>\n",
              "      <td>10068</td>\n",
              "    </tr>\n",
              "    <tr>\n",
              "      <th>June</th>\n",
              "      <td>8821</td>\n",
              "      <td>10132</td>\n",
              "      <td>11905</td>\n",
              "      <td>12725</td>\n",
              "      <td>7896</td>\n",
              "    </tr>\n",
              "    <tr>\n",
              "      <th>July</th>\n",
              "      <td>8367</td>\n",
              "      <td>9152</td>\n",
              "      <td>9813</td>\n",
              "      <td>9929</td>\n",
              "      <td>5871</td>\n",
              "    </tr>\n",
              "    <tr>\n",
              "      <th>August</th>\n",
              "      <td>7390</td>\n",
              "      <td>7568</td>\n",
              "      <td>7943</td>\n",
              "      <td>9748</td>\n",
              "      <td>6310</td>\n",
              "    </tr>\n",
              "    <tr>\n",
              "      <th>September</th>\n",
              "      <td>7256</td>\n",
              "      <td>8001</td>\n",
              "      <td>8147</td>\n",
              "      <td>9828</td>\n",
              "      <td>6340</td>\n",
              "    </tr>\n",
              "    <tr>\n",
              "      <th>October</th>\n",
              "      <td>7940</td>\n",
              "      <td>8512</td>\n",
              "      <td>8759</td>\n",
              "      <td>9715</td>\n",
              "      <td>7087</td>\n",
              "    </tr>\n",
              "    <tr>\n",
              "      <th>November</th>\n",
              "      <td>6354</td>\n",
              "      <td>6475</td>\n",
              "      <td>7337</td>\n",
              "      <td>8503</td>\n",
              "      <td>7353</td>\n",
              "    </tr>\n",
              "    <tr>\n",
              "      <th>December</th>\n",
              "      <td>4058</td>\n",
              "      <td>4418</td>\n",
              "      <td>4917</td>\n",
              "      <td>5305</td>\n",
              "      <td>4930</td>\n",
              "    </tr>\n",
              "  </tbody>\n",
              "</table>\n",
              "</div>\n",
              "    <div class=\"colab-df-buttons\">\n",
              "\n",
              "  <div class=\"colab-df-container\">\n",
              "    <button class=\"colab-df-convert\" onclick=\"convertToInteractive('df-8e8732aa-0900-4056-8aaf-88534de59621')\"\n",
              "            title=\"Convert this dataframe to an interactive table.\"\n",
              "            style=\"display:none;\">\n",
              "\n",
              "  <svg xmlns=\"http://www.w3.org/2000/svg\" height=\"24px\" viewBox=\"0 -960 960 960\">\n",
              "    <path d=\"M120-120v-720h720v720H120Zm60-500h600v-160H180v160Zm220 220h160v-160H400v160Zm0 220h160v-160H400v160ZM180-400h160v-160H180v160Zm440 0h160v-160H620v160ZM180-180h160v-160H180v160Zm440 0h160v-160H620v160Z\"/>\n",
              "  </svg>\n",
              "    </button>\n",
              "\n",
              "  <style>\n",
              "    .colab-df-container {\n",
              "      display:flex;\n",
              "      gap: 12px;\n",
              "    }\n",
              "\n",
              "    .colab-df-convert {\n",
              "      background-color: #E8F0FE;\n",
              "      border: none;\n",
              "      border-radius: 50%;\n",
              "      cursor: pointer;\n",
              "      display: none;\n",
              "      fill: #1967D2;\n",
              "      height: 32px;\n",
              "      padding: 0 0 0 0;\n",
              "      width: 32px;\n",
              "    }\n",
              "\n",
              "    .colab-df-convert:hover {\n",
              "      background-color: #E2EBFA;\n",
              "      box-shadow: 0px 1px 2px rgba(60, 64, 67, 0.3), 0px 1px 3px 1px rgba(60, 64, 67, 0.15);\n",
              "      fill: #174EA6;\n",
              "    }\n",
              "\n",
              "    .colab-df-buttons div {\n",
              "      margin-bottom: 4px;\n",
              "    }\n",
              "\n",
              "    [theme=dark] .colab-df-convert {\n",
              "      background-color: #3B4455;\n",
              "      fill: #D2E3FC;\n",
              "    }\n",
              "\n",
              "    [theme=dark] .colab-df-convert:hover {\n",
              "      background-color: #434B5C;\n",
              "      box-shadow: 0px 1px 3px 1px rgba(0, 0, 0, 0.15);\n",
              "      filter: drop-shadow(0px 1px 2px rgba(0, 0, 0, 0.3));\n",
              "      fill: #FFFFFF;\n",
              "    }\n",
              "  </style>\n",
              "\n",
              "    <script>\n",
              "      const buttonEl =\n",
              "        document.querySelector('#df-8e8732aa-0900-4056-8aaf-88534de59621 button.colab-df-convert');\n",
              "      buttonEl.style.display =\n",
              "        google.colab.kernel.accessAllowed ? 'block' : 'none';\n",
              "\n",
              "      async function convertToInteractive(key) {\n",
              "        const element = document.querySelector('#df-8e8732aa-0900-4056-8aaf-88534de59621');\n",
              "        const dataTable =\n",
              "          await google.colab.kernel.invokeFunction('convertToInteractive',\n",
              "                                                    [key], {});\n",
              "        if (!dataTable) return;\n",
              "\n",
              "        const docLinkHtml = 'Like what you see? Visit the ' +\n",
              "          '<a target=\"_blank\" href=https://colab.research.google.com/notebooks/data_table.ipynb>data table notebook</a>'\n",
              "          + ' to learn more about interactive tables.';\n",
              "        element.innerHTML = '';\n",
              "        dataTable['output_type'] = 'display_data';\n",
              "        await google.colab.output.renderOutput(dataTable, element);\n",
              "        const docLink = document.createElement('div');\n",
              "        docLink.innerHTML = docLinkHtml;\n",
              "        element.appendChild(docLink);\n",
              "      }\n",
              "    </script>\n",
              "  </div>\n",
              "\n",
              "\n",
              "<div id=\"df-684e4d5c-bbd2-4a11-86fc-4957e3debe9e\">\n",
              "  <button class=\"colab-df-quickchart\" onclick=\"quickchart('df-684e4d5c-bbd2-4a11-86fc-4957e3debe9e')\"\n",
              "            title=\"Suggest charts.\"\n",
              "            style=\"display:none;\">\n",
              "\n",
              "<svg xmlns=\"http://www.w3.org/2000/svg\" height=\"24px\"viewBox=\"0 0 24 24\"\n",
              "     width=\"24px\">\n",
              "    <g>\n",
              "        <path d=\"M19 3H5c-1.1 0-2 .9-2 2v14c0 1.1.9 2 2 2h14c1.1 0 2-.9 2-2V5c0-1.1-.9-2-2-2zM9 17H7v-7h2v7zm4 0h-2V7h2v10zm4 0h-2v-4h2v4z\"/>\n",
              "    </g>\n",
              "</svg>\n",
              "  </button>\n",
              "\n",
              "<style>\n",
              "  .colab-df-quickchart {\n",
              "      --bg-color: #E8F0FE;\n",
              "      --fill-color: #1967D2;\n",
              "      --hover-bg-color: #E2EBFA;\n",
              "      --hover-fill-color: #174EA6;\n",
              "      --disabled-fill-color: #AAA;\n",
              "      --disabled-bg-color: #DDD;\n",
              "  }\n",
              "\n",
              "  [theme=dark] .colab-df-quickchart {\n",
              "      --bg-color: #3B4455;\n",
              "      --fill-color: #D2E3FC;\n",
              "      --hover-bg-color: #434B5C;\n",
              "      --hover-fill-color: #FFFFFF;\n",
              "      --disabled-bg-color: #3B4455;\n",
              "      --disabled-fill-color: #666;\n",
              "  }\n",
              "\n",
              "  .colab-df-quickchart {\n",
              "    background-color: var(--bg-color);\n",
              "    border: none;\n",
              "    border-radius: 50%;\n",
              "    cursor: pointer;\n",
              "    display: none;\n",
              "    fill: var(--fill-color);\n",
              "    height: 32px;\n",
              "    padding: 0;\n",
              "    width: 32px;\n",
              "  }\n",
              "\n",
              "  .colab-df-quickchart:hover {\n",
              "    background-color: var(--hover-bg-color);\n",
              "    box-shadow: 0 1px 2px rgba(60, 64, 67, 0.3), 0 1px 3px 1px rgba(60, 64, 67, 0.15);\n",
              "    fill: var(--button-hover-fill-color);\n",
              "  }\n",
              "\n",
              "  .colab-df-quickchart-complete:disabled,\n",
              "  .colab-df-quickchart-complete:disabled:hover {\n",
              "    background-color: var(--disabled-bg-color);\n",
              "    fill: var(--disabled-fill-color);\n",
              "    box-shadow: none;\n",
              "  }\n",
              "\n",
              "  .colab-df-spinner {\n",
              "    border: 2px solid var(--fill-color);\n",
              "    border-color: transparent;\n",
              "    border-bottom-color: var(--fill-color);\n",
              "    animation:\n",
              "      spin 1s steps(1) infinite;\n",
              "  }\n",
              "\n",
              "  @keyframes spin {\n",
              "    0% {\n",
              "      border-color: transparent;\n",
              "      border-bottom-color: var(--fill-color);\n",
              "      border-left-color: var(--fill-color);\n",
              "    }\n",
              "    20% {\n",
              "      border-color: transparent;\n",
              "      border-left-color: var(--fill-color);\n",
              "      border-top-color: var(--fill-color);\n",
              "    }\n",
              "    30% {\n",
              "      border-color: transparent;\n",
              "      border-left-color: var(--fill-color);\n",
              "      border-top-color: var(--fill-color);\n",
              "      border-right-color: var(--fill-color);\n",
              "    }\n",
              "    40% {\n",
              "      border-color: transparent;\n",
              "      border-right-color: var(--fill-color);\n",
              "      border-top-color: var(--fill-color);\n",
              "    }\n",
              "    60% {\n",
              "      border-color: transparent;\n",
              "      border-right-color: var(--fill-color);\n",
              "    }\n",
              "    80% {\n",
              "      border-color: transparent;\n",
              "      border-right-color: var(--fill-color);\n",
              "      border-bottom-color: var(--fill-color);\n",
              "    }\n",
              "    90% {\n",
              "      border-color: transparent;\n",
              "      border-bottom-color: var(--fill-color);\n",
              "    }\n",
              "  }\n",
              "</style>\n",
              "\n",
              "  <script>\n",
              "    async function quickchart(key) {\n",
              "      const quickchartButtonEl =\n",
              "        document.querySelector('#' + key + ' button');\n",
              "      quickchartButtonEl.disabled = true;  // To prevent multiple clicks.\n",
              "      quickchartButtonEl.classList.add('colab-df-spinner');\n",
              "      try {\n",
              "        const charts = await google.colab.kernel.invokeFunction(\n",
              "            'suggestCharts', [key], {});\n",
              "      } catch (error) {\n",
              "        console.error('Error during call to suggestCharts:', error);\n",
              "      }\n",
              "      quickchartButtonEl.classList.remove('colab-df-spinner');\n",
              "      quickchartButtonEl.classList.add('colab-df-quickchart-complete');\n",
              "    }\n",
              "    (() => {\n",
              "      let quickchartButtonEl =\n",
              "        document.querySelector('#df-684e4d5c-bbd2-4a11-86fc-4957e3debe9e button');\n",
              "      quickchartButtonEl.style.display =\n",
              "        google.colab.kernel.accessAllowed ? 'block' : 'none';\n",
              "    })();\n",
              "  </script>\n",
              "</div>\n",
              "    </div>\n",
              "  </div>\n"
            ]
          },
          "metadata": {},
          "execution_count": 89
        }
      ]
    },
    {
      "cell_type": "code",
      "source": [
        "pivot_table.plot(kind='line', title='Monthly Sales')\n",
        "plt.xlabel('Month')\n",
        "plt.ylabel('Sales')\n",
        "plt.legend(title='Year', loc='upper right')\n",
        "plt.show()"
      ],
      "metadata": {
        "colab": {
          "base_uri": "https://localhost:8080/",
          "height": 472
        },
        "id": "FM4_c5MK1Rw7",
        "outputId": "bb5ac2f4-38f1-4869-cbbf-db3519f4d4bd"
      },
      "id": "FM4_c5MK1Rw7",
      "execution_count": null,
      "outputs": [
        {
          "output_type": "display_data",
          "data": {
            "text/plain": [
              "<Figure size 640x480 with 1 Axes>"
            ],
            "image/png": "[encoded data removed]"
          },
          "metadata": {}
        }
      ]
    },
    {
      "cell_type": "markdown",
      "source": [
        "4a"
      ],
      "metadata": {
        "id": "X5-6MiOU3Pu5"
      },
      "id": "X5-6MiOU3Pu5"
    },
    {
      "cell_type": "code",
      "source": [
        "total_sales_first_method = df.groupby('Year')['Sales'].sum()\n",
        "total_sales_first_method.plot(kind='bar')\n",
        "\n",
        "plt.xlabel('Year')\n",
        "plt.ylabel('Total Sales')\n",
        "plt.title('Total Sales by Year')\n",
        "plt.show()"
      ],
      "metadata": {
        "colab": {
          "base_uri": "https://localhost:8080/",
          "height": 493
        },
        "id": "oe42QWBm3Mzt",
        "outputId": "82ea37b2-a811-40e4-bcc0-191f9f46bbe9"
      },
      "id": "oe42QWBm3Mzt",
      "execution_count": null,
      "outputs": [
        {
          "output_type": "display_data",
          "data": {
            "text/plain": [
              "<Figure size 640x480 with 1 Axes>"
            ],
            "image/png": "[encoded data removed]"
          },
          "metadata": {}
        }
      ]
    },
    {
      "cell_type": "markdown",
      "source": [
        "4b"
      ],
      "metadata": {
        "id": "bOv1zu4y3N-O"
      },
      "id": "bOv1zu4y3N-O"
    },
    {
      "cell_type": "code",
      "source": [
        "total_sales_second_method = pivot_table.sum(axis=0)\n",
        "total_sales_second_method.plot(kind='bar')\n",
        "\n",
        "plt.xlabel('Year')\n",
        "plt.ylabel('Total Sales')\n",
        "plt.title('Total Sales by Year')\n",
        "plt.show()"
      ],
      "metadata": {
        "colab": {
          "base_uri": "https://localhost:8080/",
          "height": 493
        },
        "id": "AScnR64S17tN",
        "outputId": "f6d5e388-2f94-4408-8c47-f854e6e9ca4f"
      },
      "id": "AScnR64S17tN",
      "execution_count": null,
      "outputs": [
        {
          "output_type": "display_data",
          "data": {
            "text/plain": [
              "<Figure size 640x480 with 1 Axes>"
            ],
            "image/png": "[encoded data removed]"
          },
          "metadata": {}
        }
      ]
    }
  ],
  "metadata": {
    "kernelspec": {
      "display_name": "Python 3 (ipykernel)",
      "language": "python",
      "name": "python3"
    },
    "language_info": {
      "codemirror_mode": {
        "name": "ipython",
        "version": 3
      },
      "file_extension": ".py",
      "mimetype": "text/x-python",
      "name": "python",
      "nbconvert_exporter": "python",
      "pygments_lexer": "ipython3",
      "version": "3.11.5"
    },
    "colab": {
      "provenance": [],
      "include_colab_link": true
    }
  },
  "nbformat": 4,
  "nbformat_minor": 5
}